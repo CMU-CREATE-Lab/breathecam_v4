{
 "cells": [
  {
   "cell_type": "code",
   "execution_count": null,
   "metadata": {},
   "outputs": [],
   "source": [
    "#  grep -a 2022-12-1 logs/breathecam.txt  > log1011.txt\n",
    "#  grep -a \"raw: CORRUPT\" log1011.txt  >corrupt.txt\n",
    "#  grep -a \"Captured\" log1011.txt  >captured.txt\n",
    "\n",
    "from collections import defaultdict\n",
    "\n",
    "\n",
    "corrupt = defaultdict(lambda: 0)\n",
    "all = defaultdict(lambda: 0)\n",
    "\n",
    "for line in open(\"corrupt.txt\"):\n",
    "    corrupt[line.split(\":\")[0]] += 1\n",
    "\n",
    "for line in open(\"captured.txt\"):\n",
    "    all[line.split(\":\")[0]] += 1\n",
    "\n",
    "for key in sorted(list(set(corrupt.keys()) | set(all.keys()))):\n",
    "    print(f\"{key}: {corrupt[key]} {all[key]} {corrupt[key]/all[key]*100:.1f}\")\n",
    "\n",
    "\n",
    "\n",
    "\n"
   ]
  },
  {
   "cell_type": "code",
   "execution_count": 1,
   "metadata": {},
   "outputs": [],
   "source": [
    "import datetime"
   ]
  },
  {
   "cell_type": "code",
   "execution_count": 3,
   "metadata": {},
   "outputs": [
    {
     "data": {
      "text/plain": [
       "'141258.808079'"
      ]
     },
     "execution_count": 3,
     "metadata": {},
     "output_type": "execute_result"
    }
   ],
   "source": []
  },
  {
   "cell_type": "code",
   "execution_count": null,
   "metadata": {},
   "outputs": [],
   "source": []
  }
 ],
 "metadata": {
  "kernelspec": {
   "display_name": "Python 3",
   "language": "python",
   "name": "python3"
  },
  "language_info": {
   "codemirror_mode": {
    "name": "ipython",
    "version": 3
   },
   "file_extension": ".py",
   "mimetype": "text/x-python",
   "name": "python",
   "nbconvert_exporter": "python",
   "pygments_lexer": "ipython3",
   "version": "2.7.17 (default, Nov 28 2022, 18:51:39) \n[GCC 7.5.0]"
  },
  "orig_nbformat": 4,
  "vscode": {
   "interpreter": {
    "hash": "767d51c1340bd893661ea55ea3124f6de3c7a262a8b4abca0554b478b1e2ff90"
   }
  }
 },
 "nbformat": 4,
 "nbformat_minor": 2
}
